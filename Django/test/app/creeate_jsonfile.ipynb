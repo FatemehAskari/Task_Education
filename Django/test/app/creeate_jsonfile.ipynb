{
 "cells": [
  {
   "cell_type": "code",
   "execution_count": null,
   "metadata": {},
   "outputs": [],
   "source": [
    "import json\n",
    "\n",
    "def tile_json():\n",
    "    data = {\n",
    "        \"model\": \"application.application\",\n",
    "        \"pk\": 0,\n",
    "        \"fields\": []\n",
    "    }\n",
    "\n",
    "    # Write the data to a JSON file\n",
    "    with open(\"data.json\", \"w\") as file:\n",
    "        json.dump(data, file, indent=2)"
   ]
  },
  {
   "cell_type": "code",
   "execution_count": null,
   "metadata": {},
   "outputs": [],
   "source": []
  }
 ],
 "metadata": {
  "kernelspec": {
   "display_name": "Python 3",
   "language": "python",
   "name": "python3"
  },
  "language_info": {
   "name": "python",
   "version": "3.11.2"
  }
 },
 "nbformat": 4,
 "nbformat_minor": 2
}
