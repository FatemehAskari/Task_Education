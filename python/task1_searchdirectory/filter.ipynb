{
 "cells": [
  {
   "cell_type": "markdown",
   "metadata": {},
   "source": [
    "<h2>Filter</h2>"
   ]
  },
  {
   "cell_type": "code",
   "execution_count": 107,
   "metadata": {},
   "outputs": [],
   "source": [
    "import json\n",
    "from collections import deque\n",
    "from datetime import datetime\n",
    "\n",
    "with open('data.json', 'r') as f:\n",
    "    data = json.load(f)\n",
    "    \n",
    "graph = [\n",
    "{\n",
    "    \"id\": node[\"id\"],\n",
    "    \"name\": node[\"name\"],\n",
    "    \"time\": node[\"time\"],\n",
    "    \"type\": node[\"type\"],\n",
    "    \"content\": node[\"content\"],\n",
    "    \"child\": node[\"child\"]\n",
    "}\n",
    "for node in data[\"node\"]\n",
    "]\n",
    "\n",
    "# Sort the graph list based on the \"id\" key\n",
    "graph = sorted(graph, key=lambda x: x[\"id\"])   \n",
    "\n",
    "def chceck_content(content,search):\n",
    "    if search in str(content):\n",
    "        return True\n",
    "    return False\n",
    "        \n",
    "def filter(\n",
    "        start_node, \n",
    "        name=None, \n",
    "        type=None, \n",
    "        content=None, \n",
    "        date_low=None, \n",
    "        date_high=None, \n",
    "        result1=[]\n",
    "        ):     \n",
    "    queue = deque([start_node])\n",
    "    visited = set([start_node])\n",
    "    parent={}\n",
    "    parent[start_node]=-1\n",
    "    \n",
    "    while queue:\n",
    "        current_node = queue.popleft()\n",
    "        \n",
    "        for neighbor in graph[current_node]['child']:\n",
    "            if neighbor not in visited:\n",
    "                visited.add(neighbor)\n",
    "                queue.append(neighbor)\n",
    "                parent[neighbor]=current_node\n",
    "                if (name is None or graph[neighbor]['name']==name) and \\\n",
    "                   (type is None or graph[neighbor]['type']==type) and \\\n",
    "                   (content is None or chceck_content(graph[neighbor]['content'],content)) and \\\n",
    "                   (date_low is None or datetime.strptime(graph[neighbor]['time'], \"%Y-%m-%d %H:%M:%S.%f\") >= datetime.strptime(date_low, \"%Y-%m-%d %H:%M:%S.%f\")) and \\\n",
    "                   (date_high is None or datetime.strptime(graph[neighbor]['time'], \"%Y-%m-%d %H:%M:%S.%f\") <= datetime.strptime(date_high, \"%Y-%m-%d %H:%M:%S.%f\")):\n",
    "                    \n",
    "                    result1.append(neighbor)\n",
    "    return parent\n",
    "\n",
    "def prepareformat(result1,parent):\n",
    "    answer=[]\n",
    "    for a in result1:\n",
    "        ans=[]\n",
    "        id1=graph[a]['id']\n",
    "        ans.append(graph[a]['name']+'.'+graph[a]['type'])\n",
    "        while id1!=0:\n",
    "            id1=parent[id1]\n",
    "            ans.append(graph[id1]['name'])\n",
    "        reversed_ans = list(reversed(ans))\n",
    "        answer.append(reversed_ans)\n",
    "    for e in answer:\n",
    "        aa=\"\"\n",
    "        for ele in e:\n",
    "            aa+=str(ele)+ '->' + \" \"\n",
    "        print(aa[:-3])    \n",
    "                             \n"
   ]
  },
  {
   "cell_type": "code",
   "execution_count": 108,
   "metadata": {},
   "outputs": [
    {
     "name": "stdout",
     "output_type": "stream",
     "text": [
      "labnetwork-> IUST-NetLab-Assignments-> efe.txt\n",
      "labnetwork-> 7-> rr-> yy-> test.txt\n"
     ]
    }
   ],
   "source": [
    "result1=[]\n",
    "parent=filter(0,content=\"salam\",date_low=\"2023-12-31 23:59:59.999999\",result1=result1)\n",
    "prepareformat(result1,parent)"
   ]
  }
 ],
 "metadata": {
  "kernelspec": {
   "display_name": "Python 3",
   "language": "python",
   "name": "python3"
  },
  "language_info": {
   "codemirror_mode": {
    "name": "ipython",
    "version": 3
   },
   "file_extension": ".py",
   "mimetype": "text/x-python",
   "name": "python",
   "nbconvert_exporter": "python",
   "pygments_lexer": "ipython3",
   "version": "3.11.2"
  }
 },
 "nbformat": 4,
 "nbformat_minor": 2
}
