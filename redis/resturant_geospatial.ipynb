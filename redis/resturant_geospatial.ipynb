{
 "cells": [
  {
   "cell_type": "code",
   "execution_count": 3,
   "metadata": {},
   "outputs": [],
   "source": [
    "import redis\n",
    "import random\n",
    "import math\n",
    "\n",
    "def create_clients(r):\n",
    "    lat_from, long_from, lat_to, long_to = tehran_latlong()\n",
    "    itr = 50000\n",
    "    for i in range(itr):\n",
    "        lat = from_range(lat_from, lat_to, random.random())\n",
    "        long = from_range(long_from, long_to, random.random())\n",
    "        # r.geoadd(\"shops\", long, lat, str(i))\n",
    "        r.geoadd(\"shops\", [long,lat,str(i)])\n",
    "\n",
    "def tehran_latlong():\n",
    "    lat_from = 35.679292\n",
    "    long_from = 51.306170\n",
    "    lat_to = 35.764646\n",
    "    long_to = 51.487273\n",
    "    return lat_from, long_from, lat_to, long_to\n",
    "\n",
    "def from_range(from_value, to_value, x):\n",
    "    return x * (to_value - from_value) + from_value\n",
    "\n",
    "# Usage example\n",
    "r = redis.Redis(host='127.0.0.1', port=6379, db=0)\n",
    "create_clients(r)"
   ]
  },
  {
   "cell_type": "code",
   "execution_count": 19,
   "metadata": {},
   "outputs": [
    {
     "name": "stdout",
     "output_type": "stream",
     "text": [
      "Name: b'47528', Coordinates: (51.30648225545883, 35.679593041967514)\n",
      "Name: b'30485', Coordinates: (51.30650371313095, 35.67995297237214)\n",
      "Name: b'10356', Coordinates: (51.307367384433746, 35.6796310627849)\n",
      "Name: b'13444', Coordinates: (51.30709379911423, 35.68001634040112)\n",
      "Name: b'19797', Coordinates: (51.30732446908951, 35.67996057653561)\n",
      "Name: b'32644', Coordinates: (51.30706697702408, 35.68035599303648)\n",
      "Name: b'28067', Coordinates: (51.307914555072784, 35.67948911839998)\n",
      "Name: b'24043', Coordinates: (51.30651444196701, 35.68069818039299)\n",
      "Name: b'36924', Coordinates: (51.30783945322037, 35.67987946545852)\n",
      "Name: b'35540', Coordinates: (51.30627304315567, 35.68082998589327)\n",
      "Name: b'37830', Coordinates: (51.30810767412186, 35.67938012539013)\n",
      "Name: b'20478', Coordinates: (51.3082417845726, 35.67930661847651)\n",
      "Name: b'43762', Coordinates: (51.30803257226944, 35.68006196538199)\n",
      "Name: b'1718', Coordinates: (51.307651698589325, 35.680650020690955)\n",
      "Name: b'2245', Coordinates: (51.30829006433487, 35.68016335422836)\n",
      "Name: b'47510', Coordinates: (51.30859583616257, 35.679707104419684)\n",
      "Name: b'49628', Coordinates: (51.30726009607315, 35.68117470797094)\n",
      "Name: b'12337', Coordinates: (51.30671828985214, 35.68139776343296)\n",
      "Name: b'6760', Coordinates: (51.308172047138214, 35.680774222027765)\n",
      "Name: b'33135', Coordinates: (51.307882368564606, 35.68100995109558)\n",
      "Name: b'44564', Coordinates: (51.30729228258133, 35.68136988150021)\n",
      "Name: b'15948', Coordinates: (51.3077911734581, 35.6812456801634)\n",
      "Name: b'10616', Coordinates: (51.309153735637665, 35.679595576688676)\n",
      "Name: b'19419', Coordinates: (51.3091966509819, 35.679408007322884)\n",
      "Name: b'21604', Coordinates: (51.30928784608841, 35.67970203497736)\n",
      "Name: b'37095', Coordinates: (51.307887732982635, 35.68153717309672)\n",
      "Name: b'29114', Coordinates: (51.30882114171982, 35.68092630529733)\n",
      "Name: b'30287', Coordinates: (51.309175193309784, 35.68048272909444)\n",
      "Name: b'36788', Coordinates: (51.30934149026871, 35.68022418753619)\n",
      "Name: b'26080', Coordinates: (51.30786091089249, 35.68166644387585)\n",
      "Name: b'42235', Coordinates: (51.30860656499863, 35.68119245101905)\n",
      "Name: b'46368', Coordinates: (51.30759805440903, 35.68181092298193)\n",
      "Name: b'22328', Coordinates: (51.3068363070488, 35.68206439509787)\n",
      "Name: b'17932', Coordinates: (51.30726009607315, 35.68212015896337)\n",
      "Name: b'19283', Coordinates: (51.30846172571182, 35.681699395250924)\n",
      "Name: b'6892', Coordinates: (51.308434903621674, 35.68172220774135)\n",
      "Name: b'29520', Coordinates: (51.30820959806442, 35.68189963822251)\n",
      "Name: b'49298', Coordinates: (51.3085475564003, 35.681745020231794)\n",
      "Name: b'12782', Coordinates: (51.30975991487503, 35.680447242998206)\n",
      "Name: b'48028', Coordinates: (51.30982428789139, 35.68084012477791)\n",
      "Name: b'43099', Coordinates: (51.31008177995682, 35.68036866664227)\n",
      "Name: b'20531', Coordinates: (51.307877004146576, 35.68242179078133)\n",
      "Name: b'15934', Coordinates: (51.30920201539993, 35.68174248551063)\n",
      "Name: b'43480', Coordinates: (51.31019443273544, 35.68050300686371)\n",
      "Name: b'40160', Coordinates: (51.3078448176384, 35.682624568474075)\n",
      "Name: b'27945', Coordinates: (51.309625804424286, 35.68160561056803)\n",
      "Name: b'42528', Coordinates: (51.31002813577652, 35.681205124624846)\n",
      "Name: b'13797', Coordinates: (51.30761414766312, 35.68288311003233)\n",
      "Name: b'8976', Coordinates: (51.30649298429489, 35.683078283561606)\n",
      "Name: b'8219', Coordinates: (51.309652626514435, 35.68187936045323)\n"
     ]
    }
   ],
   "source": [
    "import redis\n",
    "from redis.commands.search.field import GeoField\n",
    "from redis.commands.search.query import Query\n",
    "\n",
    "def find_near(r, lat, long, radius):\n",
    "    res = r.geosearch(\n",
    "        \"shops\",\n",
    "        longitude=long,\n",
    "        latitude=lat,\n",
    "        radius=radius,\n",
    "        unit=\"m\",\n",
    "        withcoord=True,\n",
    "        count=50,\n",
    "        sort=\"asc\"\n",
    "    )\n",
    "    return res\n",
    "\n",
    "# Usage example\n",
    "r = redis.Redis(host='127.0.0.1', port=6379, db=0)\n",
    "nearby_locations = find_near(r, 35.679292, 51.306170, 5000)\n",
    "\n",
    "# print(len(nearby_locations[0]))\n",
    "\n",
    "for loc in nearby_locations:\n",
    "    print(f\"Name: {loc[0]}, Coordinates: {loc[1]}\")"
   ]
  },
  {
   "cell_type": "code",
   "execution_count": 34,
   "metadata": {},
   "outputs": [
    {
     "name": "stdout",
     "output_type": "stream",
     "text": [
      " * Serving Flask app '__main__'\n",
      " * Debug mode: off\n"
     ]
    },
    {
     "name": "stderr",
     "output_type": "stream",
     "text": [
      "WARNING: This is a development server. Do not use it in a production deployment. Use a production WSGI server instead.\n",
      " * Running on http://127.0.0.1:5000\n",
      "Press CTRL+C to quit\n",
      "127.0.0.1 - - [24/Jun/2024 10:15:02] \"GET / HTTP/1.1\" 200 -\n"
     ]
    }
   ],
   "source": [
    "from flask import Flask, request\n",
    "\n",
    "app = Flask(__name__)\n",
    "if __name__ == '__main__':\n",
    "    r = redis.Redis(host='127.0.0.1', port=6379, db=0)\n",
    "\n",
    "    @app.route('/', methods=['GET'])\n",
    "    def benchmark():\n",
    "        lat_from, long_from, lat_to, long_to = tehran_latlong()\n",
    "        lat = from_range(lat_from, lat_to, random.random())\n",
    "        long = from_range(long_from, long_to, random.random())\n",
    "        items = find_near(r, lat, long, 250)\n",
    "        result = \"\"\n",
    "        i=1\n",
    "        for item in items:\n",
    "            result+=f\"\\n{i}){item[0]}\\t {item[1][0]}, {item[1][1]}\"\n",
    "            i+=1\n",
    "        # result='\\n'.join([f\"{item[0]}\\t {item[1][0]}, {item[1][1]}\" for item in items])\n",
    "        return result, 200, {'Content-Type': 'text/plain'}\n",
    "\n",
    "    app.run()"
   ]
  }
 ],
 "metadata": {
  "kernelspec": {
   "display_name": "Python 3",
   "language": "python",
   "name": "python3"
  },
  "language_info": {
   "codemirror_mode": {
    "name": "ipython",
    "version": 3
   },
   "file_extension": ".py",
   "mimetype": "text/x-python",
   "name": "python",
   "nbconvert_exporter": "python",
   "pygments_lexer": "ipython3",
   "version": "3.11.9"
  }
 },
 "nbformat": 4,
 "nbformat_minor": 2
}
