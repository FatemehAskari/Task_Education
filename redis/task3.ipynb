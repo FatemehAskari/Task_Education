{
 "cells": [
  {
   "cell_type": "code",
   "execution_count": 2,
   "metadata": {},
   "outputs": [
    {
     "name": "stderr",
     "output_type": "stream",
     "text": [
      "C:\\Users\\User\\AppData\\Local\\Temp\\ipykernel_3224\\2919408108.py:17: DeprecationWarning: Redis.hmset() is deprecated. Use Redis.hset() instead.\n",
      "  r.hmset(userid,userhash)\n"
     ]
    },
    {
     "name": "stdout",
     "output_type": "stream",
     "text": [
      "1000 users created\n"
     ]
    }
   ],
   "source": [
    "# without pipeline\n",
    "\n",
    "import redis\n",
    "\n",
    "r=redis.Redis(host='127.0.0.1',port=6379 , db=0)\n",
    "\n",
    "key_list=\"users\"\n",
    "\n",
    "for i in range(1001,2000):\n",
    "    userid=f\"user{i}\"\n",
    "    \n",
    "    userhash={\n",
    "        \"Name\":f\"name{i}\",\n",
    "        \"LastName\":f\"lastname{i}\"   \n",
    "    }\n",
    "    \n",
    "    r.hmset(userid,userhash)\n",
    "    r.rpush(key_list,userid)\n",
    "    \n",
    "\n",
    "print(f\"{1000} users created\")    "
   ]
  },
  {
   "cell_type": "code",
   "execution_count": 1,
   "metadata": {},
   "outputs": [
    {
     "name": "stdout",
     "output_type": "stream",
     "text": [
      "1000 users created\n"
     ]
    },
    {
     "name": "stderr",
     "output_type": "stream",
     "text": [
      "C:\\Users\\User\\AppData\\Local\\Temp\\ipykernel_3224\\86266682.py:16: DeprecationWarning: Pipeline.hmset() is deprecated. Use Pipeline.hset() instead.\n",
      "  pipe.hmset(userid,userhash)\n"
     ]
    }
   ],
   "source": [
    "\n",
    "# with pipeline\n",
    "import redis\n",
    "\n",
    "r=redis.Redis(host='127.0.0.1',port=6379 , db=0)\n",
    "\n",
    "key_list=\"users\"\n",
    "pipe=r.pipeline()\n",
    "\n",
    "for i in range(1,1001):\n",
    "    userid=f\"user{i}\"\n",
    "    \n",
    "    userhash={\n",
    "        \"Name\":f\"name{i}\",\n",
    "        \"LastName\":f\"lastname{i}\"   \n",
    "    }\n",
    "    \n",
    "    pipe.hmset(userid,userhash)\n",
    "    pipe.rpush(key_list,userid)\n",
    "    \n",
    "pipe.execute()    \n",
    "\n",
    "print(f\"{1000} users created\")    \n"
   ]
  },
  {
   "cell_type": "code",
   "execution_count": 4,
   "metadata": {},
   "outputs": [
    {
     "name": "stdout",
     "output_type": "stream",
     "text": [
      "1000 users created\n"
     ]
    },
    {
     "name": "stderr",
     "output_type": "stream",
     "text": [
      "C:\\Users\\User\\AppData\\Local\\Temp\\ipykernel_3224\\2999000173.py:17: DeprecationWarning: Pipeline.hmset() is deprecated. Use Pipeline.hset() instead.\n",
      "  pipe.hmset(userid, userhash)\n"
     ]
    }
   ],
   "source": [
    "# with transaction\n",
    "\n",
    "import redis\n",
    "\n",
    "r = redis.Redis(host='127.0.0.1', port=6379, db=0)\n",
    "\n",
    "key_list = \"users\"\n",
    "\n",
    "with r.pipeline() as pipe:\n",
    "    pipe.multi()\n",
    "    for i in range(2001, 3001):\n",
    "        userid = f\"user{i}\"\n",
    "        userhash = {\n",
    "            \"Name\": f\"name{i}\",\n",
    "            \"LastName\": f\"lastname{i}\"\n",
    "        }\n",
    "        pipe.hmset(userid, userhash)\n",
    "        pipe.rpush(key_list, userid)\n",
    "    pipe.execute()\n",
    "\n",
    "print(f\"{1000} users created\")"
   ]
  }
 ],
 "metadata": {
  "kernelspec": {
   "display_name": "Python 3",
   "language": "python",
   "name": "python3"
  },
  "language_info": {
   "codemirror_mode": {
    "name": "ipython",
    "version": 3
   },
   "file_extension": ".py",
   "mimetype": "text/x-python",
   "name": "python",
   "nbconvert_exporter": "python",
   "pygments_lexer": "ipython3",
   "version": "3.11.9"
  }
 },
 "nbformat": 4,
 "nbformat_minor": 2
}
